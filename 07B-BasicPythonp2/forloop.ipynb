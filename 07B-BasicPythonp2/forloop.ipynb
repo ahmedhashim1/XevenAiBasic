{
 "cells": [
  {
   "cell_type": "code",
   "execution_count": 9,
   "metadata": {},
   "outputs": [
    {
     "name": "stdout",
     "output_type": "stream",
     "text": [
      "Hello world\n"
     ]
    }
   ],
   "source": [
    "print(\"Hello world\")"
   ]
  },
  {
   "cell_type": "code",
   "execution_count": 10,
   "metadata": {},
   "outputs": [
    {
     "name": "stdout",
     "output_type": "stream",
     "text": [
      "Python is great\n",
      "Ahmed is learning\n",
      "Python is great\n",
      "Ahmed is learning\n",
      "Python is great\n",
      "Ahmed is learning\n",
      "Python is great\n",
      "Ahmed is learning\n",
      "Python is great\n",
      "Ahmed is learning\n",
      "Python is great\n",
      "Ahmed is learning\n",
      "Python is great\n",
      "Ahmed is learning\n",
      "Python is great\n",
      "Ahmed is learning\n",
      "Python is great\n",
      "Ahmed is learning\n",
      "Python is great\n",
      "Ahmed is learning\n"
     ]
    }
   ],
   "source": [
    "for i in range(10):\n",
    "    print(\"Python is great\")\n",
    "    print(\"Ahmed is learning\")"
   ]
  },
  {
   "cell_type": "code",
   "execution_count": 5,
   "metadata": {},
   "outputs": [
    {
     "name": "stdout",
     "output_type": "stream",
     "text": [
      "apple\n",
      "banana\n",
      "Mango\n",
      "Cherry\n",
      "4\n"
     ]
    }
   ],
   "source": [
    "fruits = [\"apple\", \"banana\", \"Mango\", \"Cherry\"]\n",
    "for items in fruits:\n",
    "    print(items)\n",
    "\n",
    "size_fruits = len(fruits)\n",
    "print(size_fruits)"
   ]
  },
  {
   "cell_type": "code",
   "execution_count": 6,
   "metadata": {},
   "outputs": [
    {
     "name": "stdout",
     "output_type": "stream",
     "text": [
      "4\n"
     ]
    }
   ],
   "source": [
    "inp_lst = ['Python', 'Java', 'Ruby', 'JavaScript']\n",
    "size = len(inp_lst)\n",
    "print(size)"
   ]
  },
  {
   "cell_type": "code",
   "execution_count": 8,
   "metadata": {},
   "outputs": [
    {
     "name": "stdout",
     "output_type": "stream",
     "text": [
      "b\n",
      "a\n",
      "n\n",
      "a\n",
      "n\n",
      "a\n"
     ]
    }
   ],
   "source": [
    "for chars in \"banana\":\n",
    "    print(chars)"
   ]
  },
  {
   "cell_type": "markdown",
   "metadata": {},
   "source": [
    "#Range"
   ]
  },
  {
   "cell_type": "code",
   "execution_count": 9,
   "metadata": {},
   "outputs": [
    {
     "name": "stdout",
     "output_type": "stream",
     "text": [
      "1\n",
      "2\n",
      "3\n",
      "4\n",
      "5\n"
     ]
    }
   ],
   "source": [
    "for i in range(1,6):\n",
    "    print(i)"
   ]
  }
 ],
 "metadata": {
  "kernelspec": {
   "display_name": ".venv",
   "language": "python",
   "name": "python3"
  },
  "language_info": {
   "codemirror_mode": {
    "name": "ipython",
    "version": 3
   },
   "file_extension": ".py",
   "mimetype": "text/x-python",
   "name": "python",
   "nbconvert_exporter": "python",
   "pygments_lexer": "ipython3",
   "version": "3.12.1"
  }
 },
 "nbformat": 4,
 "nbformat_minor": 2
}
