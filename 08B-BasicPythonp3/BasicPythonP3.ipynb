{
 "cells": [
  {
   "cell_type": "code",
   "execution_count": 5,
   "metadata": {
    "collapsed": true,
    "ExecuteTime": {
     "end_time": "2024-02-06T13:20:01.798257100Z",
     "start_time": "2024-02-06T13:20:01.752290400Z"
    }
   },
   "outputs": [
    {
     "name": "stdout",
     "output_type": "stream",
     "text": [
      "neerg dna naelc htrae eht peeK\n"
     ]
    }
   ],
   "source": [
    "def rev_string(input_str : str):\n",
    "    return input_str[::-1]\n",
    "\n",
    "output = rev_string(\"Keep the earth clean and green\")\n",
    "print(output)"
   ]
  },
  {
   "cell_type": "code",
   "execution_count": 2,
   "outputs": [
    {
     "name": "stdout",
     "output_type": "stream",
     "text": [
      "True\n"
     ]
    }
   ],
   "source": [
    "def is_pelindrome(input_str : str):\n",
    "    reversed_word = input_str[::-1]\n",
    "    return input_str == reversed_word\n",
    "\n",
    "output_pelindrome = is_pelindrome('noon')\n",
    "print(output_pelindrome)\n"
   ],
   "metadata": {
    "collapsed": false,
    "ExecuteTime": {
     "end_time": "2024-02-11T07:40:15.076139300Z",
     "start_time": "2024-02-11T07:40:15.029997700Z"
    }
   }
  }
 ],
 "metadata": {
  "kernelspec": {
   "display_name": "Python 3",
   "language": "python",
   "name": "python3"
  },
  "language_info": {
   "codemirror_mode": {
    "name": "ipython",
    "version": 2
   },
   "file_extension": ".py",
   "mimetype": "text/x-python",
   "name": "python",
   "nbconvert_exporter": "python",
   "pygments_lexer": "ipython2",
   "version": "2.7.6"
  }
 },
 "nbformat": 4,
 "nbformat_minor": 0
}
